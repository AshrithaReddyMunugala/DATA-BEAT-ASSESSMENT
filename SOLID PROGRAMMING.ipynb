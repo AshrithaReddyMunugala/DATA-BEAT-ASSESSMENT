{
 "cells": [
  {
   "cell_type": "code",
   "execution_count": 1,
   "metadata": {},
   "outputs": [],
   "source": [
    "#Single Responsibility principle"
   ]
  },
  {
   "cell_type": "code",
   "execution_count": 2,
   "metadata": {},
   "outputs": [
    {
     "name": "stdout",
     "output_type": "stream",
     "text": [
      "Save the Person(name=Ritu) to the database\n"
     ]
    }
   ],
   "source": [
    "class Person:\n",
    "    def __init__(self, name):\n",
    "        self.name = name\n",
    "    def __repr__(self):\n",
    "        return f'Person(name={self.name})'\n",
    "class PersonDB:\n",
    "    def save(self, person):\n",
    "        print(f'Save the {person} to the database')\n",
    "if __name__ == '__main__':\n",
    "    p = Person('Ritu')\n",
    "    db = PersonDB()\n",
    "    db.save(p)\n"
   ]
  },
  {
   "cell_type": "code",
   "execution_count": 3,
   "metadata": {},
   "outputs": [],
   "source": [
    "# Open Closed Principle"
   ]
  },
  {
   "cell_type": "code",
   "execution_count": 4,
   "metadata": {},
   "outputs": [
    {
     "name": "stdout",
     "output_type": "stream",
     "text": [
      "Save the Person(name=Ritu) to a XML file\n"
     ]
    }
   ],
   "source": [
    "from abc import ABC, abstractmethod\n",
    "class Person:\n",
    "    def __init__(self, name):\n",
    "        self.name = name\n",
    "    def __repr__(self):\n",
    "        return f'Person(name={self.name})'\n",
    "class PersonStorage(ABC):\n",
    "    @abstractmethod\n",
    "    def save(self, person):\n",
    "        pass\n",
    "class PersonDB(PersonStorage):\n",
    "    def save(self, person):\n",
    "        print(f'Save the {person} to database')\n",
    "class PersonJSON(PersonStorage):\n",
    "    def save(self, person):\n",
    "        print(f'Save the {person} to a JSON file')\n",
    "class PersonXML(PersonStorage):\n",
    "    def save(self, person):\n",
    "        print(f'Save the {person} to a XML file')\n",
    "if __name__ == '__main__':\n",
    "    person = Person('Ritu')\n",
    "    storage = PersonXML()\n",
    "    storage.save(person)\n"
   ]
  },
  {
   "cell_type": "code",
   "execution_count": 5,
   "metadata": {},
   "outputs": [],
   "source": [
    "#Liskov Substitution Principle"
   ]
  },
  {
   "cell_type": "code",
   "execution_count": 6,
   "metadata": {},
   "outputs": [
    {
     "name": "stdout",
     "output_type": "stream",
     "text": [
      "Turn on juicer\n"
     ]
    }
   ],
   "source": [
    "\n",
    "class kitchenAppliance():\n",
    "    def on():\n",
    "        pass\n",
    "    def off():\n",
    "        pass\n",
    "class kitchenApplianceWithTemp(kitchenAppliance):\n",
    "    def set_temp():\n",
    "        pass\n",
    "class Toaster( kitchenApplianceWithTemp):\n",
    "    def on():\n",
    "        print(\"Turn on Toaster\")\n",
    "    def off():\n",
    "        print(\"Turn off Toaster\")\n",
    "    def set_temp():\n",
    "        print(\"set temp on toaster\")\n",
    "class Juicer(kitchenAppliance):\n",
    "    def on():\n",
    "        print(\"Turn on juicer\")\n",
    "    def off():\n",
    "        print(\"Turn off juicer\")\n",
    "Juicer.on()\n"
   ]
  },
  {
   "cell_type": "code",
   "execution_count": 7,
   "metadata": {},
   "outputs": [],
   "source": [
    "#Interface Segregation Principle (ISP)"
   ]
  },
  {
   "cell_type": "code",
   "execution_count": 9,
   "metadata": {},
   "outputs": [
    {
     "name": "stdout",
     "output_type": "stream",
     "text": [
      "Humans can walk\n",
      "Humans can swim\n",
      "Whales can swim\n"
     ]
    }
   ],
   "source": [
    "from abc import ABC,abstractmethod\n",
    "class Walker(ABC):\n",
    "    @abstractmethod\n",
    "    def walk() -> bool:\n",
    "        return print(\"Can Walk\") \n",
    "class Swimmer(ABC):\n",
    "    @abstractmethod\n",
    "    def swim() -> bool:\n",
    "        return print(\"Can Swim\") \n",
    "class Human(Walker, Swimmer):\n",
    "    def walk():\n",
    "        return print(\"Humans can walk\") \n",
    "    def swim():\n",
    "\t    return print(\"Humans can swim\") \n",
    "class Whale(Swimmer):\n",
    "    def swim():\n",
    "\t    return print(\"Whales can swim\") \n",
    "if __name__ == \"__main__\":\n",
    "    Human.walk()\n",
    "    Human.swim()\n",
    "    Whale.swim()\n",
    "  \n"
   ]
  },
  {
   "cell_type": "code",
   "execution_count": 10,
   "metadata": {},
   "outputs": [],
   "source": [
    "#Dependency Inversion Principle"
   ]
  },
  {
   "cell_type": "code",
   "execution_count": 11,
   "metadata": {},
   "outputs": [
    {
     "name": "stdout",
     "output_type": "stream",
     "text": [
      "developer added\n",
      "designer added\n"
     ]
    }
   ],
   "source": [
    "class Employee(object):\n",
    "    def Work():\n",
    "        pass\n",
    "class Manager():\n",
    "    def __init__(self):\n",
    "        self.employees=[]\n",
    "    def addEmployee(self,a):\n",
    "        self.employees.append(a)\n",
    "class Developer(Employee):\n",
    "    def __init__(self):\n",
    "        print(\"developer added\")\n",
    "    def Work():\n",
    "        print (\"turning coffee into code\")        \n",
    "class Designer(Employee):\n",
    "    def __init__(self):\n",
    "        print (\"designer added\")\n",
    "    def Work():\n",
    "        print (\"turning lines to wireframes\")\n",
    "class Testers(Employee):\n",
    "    def __init__(self):\n",
    "        print(\"tester added\")\n",
    "    def Work():\n",
    "        print (\"testing everything out there\")     \n",
    "if __name__ == \"__main__\":\n",
    "    a=Manager()\n",
    "    a.addEmployee(Developer())\n",
    "    a.addEmployee(Designer())\n"
   ]
  }
 ],
 "metadata": {
  "kernelspec": {
   "display_name": "Python 3",
   "language": "python",
   "name": "python3"
  },
  "language_info": {
   "codemirror_mode": {
    "name": "ipython",
    "version": 3
   },
   "file_extension": ".py",
   "mimetype": "text/x-python",
   "name": "python",
   "nbconvert_exporter": "python",
   "pygments_lexer": "ipython3",
   "version": "3.7.6"
  }
 },
 "nbformat": 4,
 "nbformat_minor": 4
}
